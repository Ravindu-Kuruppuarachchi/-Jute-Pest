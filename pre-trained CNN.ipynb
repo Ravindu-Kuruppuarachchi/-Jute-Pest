{
 "cells": [
  {
   "cell_type": "code",
   "execution_count": 1,
   "id": "e9965001",
   "metadata": {},
   "outputs": [
    {
     "name": "stdout",
     "output_type": "stream",
     "text": [
      "WARNING:tensorflow:From c:\\Users\\USER\\AppData\\Local\\Programs\\Python\\Python311\\Lib\\site-packages\\keras\\src\\losses.py:2976: The name tf.losses.sparse_softmax_cross_entropy is deprecated. Please use tf.compat.v1.losses.sparse_softmax_cross_entropy instead.\n",
      "\n"
     ]
    }
   ],
   "source": [
    "import tensorflow as tf\n",
    "from tensorflow import keras\n",
    "from tensorflow.keras import layers, models\n",
    "from tensorflow.keras.applications import ResNet50, InceptionV3\n",
    "from tensorflow.keras.preprocessing.image import ImageDataGenerator\n",
    "import numpy as np\n",
    "import matplotlib.pyplot as plt\n",
    "from sklearn.metrics import classification_report, confusion_matrix\n",
    "import seaborn as sns\n",
    "import os"
   ]
  },
  {
   "cell_type": "code",
   "execution_count": 4,
   "id": "f749e0ec",
   "metadata": {},
   "outputs": [],
   "source": [
    "# Dataset paths\n",
    "TRAIN_DIR = \"Jute_Pest_Dataset/train\"\n",
    "VALID_DIR = \"Jute_Pest_Dataset/val\"\n",
    "TEST_DIR = \"Jute_Pest_Dataset/test\"\n",
    "\n",
    "# Dataset parameters\n",
    "IMG_HEIGHT = 224  # Standard size for most pre-trained models\n",
    "IMG_WIDTH = 224\n",
    "BATCH_SIZE = 32\n",
    "INPUT_SHAPE = (IMG_HEIGHT, IMG_WIDTH, 3)"
   ]
  },
  {
   "cell_type": "code",
   "execution_count": 5,
   "id": "38caead7",
   "metadata": {},
   "outputs": [
    {
     "name": "stdout",
     "output_type": "stream",
     "text": [
      "Found 6443 images belonging to 17 classes.\n",
      "Found 413 images belonging to 17 classes.\n",
      "Found 379 images belonging to 17 classes.\n",
      "\n",
      "Dataset Information:\n",
      "Number of classes: 17\n",
      "Class names: ['Beet Armyworm', 'Black Hairy', 'Cutworm', 'Field Cricket', 'Jute Aphid', 'Jute Hairy', 'Jute Red Mite', 'Jute Semilooper', 'Jute Stem Girdler', 'Jute Stem Weevil', 'Leaf Beetle', 'Mealybug', 'Pod Borer', 'Scopula Emissaria', 'Termite', 'Termite odontotermes (Rambur)', 'Yellow Mite']\n",
      "Training samples: 6443\n",
      "Validation samples: 413\n",
      "Test samples: 379\n"
     ]
    }
   ],
   "source": [
    "def create_data_generators():\n",
    "    \"\"\"\n",
    "    Create data generators for train, validation, and test sets.\n",
    "    Uses ImageDataGenerator for data augmentation and preprocessing.\n",
    "    \"\"\"\n",
    "    # Training data augmentation\n",
    "    train_datagen = ImageDataGenerator(\n",
    "        rescale=1./255,\n",
    "        rotation_range=20,\n",
    "        width_shift_range=0.2,\n",
    "        height_shift_range=0.2,\n",
    "        shear_range=0.2,\n",
    "        zoom_range=0.2,\n",
    "        horizontal_flip=True,\n",
    "        fill_mode='nearest'\n",
    "    )\n",
    "    \n",
    "    # Validation and test data (only rescaling, no augmentation)\n",
    "    val_test_datagen = ImageDataGenerator(rescale=1./255)\n",
    "    \n",
    "    # Create generators\n",
    "    train_generator = train_datagen.flow_from_directory(\n",
    "        TRAIN_DIR,\n",
    "        target_size=(IMG_HEIGHT, IMG_WIDTH),\n",
    "        batch_size=BATCH_SIZE,\n",
    "        class_mode='categorical',\n",
    "        shuffle=True\n",
    "    )\n",
    "    \n",
    "    valid_generator = val_test_datagen.flow_from_directory(\n",
    "        VALID_DIR,\n",
    "        target_size=(IMG_HEIGHT, IMG_WIDTH),\n",
    "        batch_size=BATCH_SIZE,\n",
    "        class_mode='categorical',\n",
    "        shuffle=False\n",
    "    )\n",
    "    \n",
    "    test_generator = val_test_datagen.flow_from_directory(\n",
    "        TEST_DIR,\n",
    "        target_size=(IMG_HEIGHT, IMG_WIDTH),\n",
    "        batch_size=BATCH_SIZE,\n",
    "        class_mode='categorical',\n",
    "        shuffle=False\n",
    "    )\n",
    "    \n",
    "    # Get number of classes\n",
    "    num_classes = len(train_generator.class_indices)\n",
    "    class_names = list(train_generator.class_indices.keys())\n",
    "    \n",
    "    print(f\"\\nDataset Information:\")\n",
    "    print(f\"Number of classes: {num_classes}\")\n",
    "    print(f\"Class names: {class_names}\")\n",
    "    print(f\"Training samples: {train_generator.samples}\")\n",
    "    print(f\"Validation samples: {valid_generator.samples}\")\n",
    "    print(f\"Test samples: {test_generator.samples}\")\n",
    "    \n",
    "    return train_generator, valid_generator, test_generator, num_classes, class_names\n",
    "\n",
    "train_gen, valid_gen, test_gen, num_classes, class_names = create_data_generators()"
   ]
  }
 ],
 "metadata": {
  "kernelspec": {
   "display_name": "Python 3",
   "language": "python",
   "name": "python3"
  },
  "language_info": {
   "codemirror_mode": {
    "name": "ipython",
    "version": 3
   },
   "file_extension": ".py",
   "mimetype": "text/x-python",
   "name": "python",
   "nbconvert_exporter": "python",
   "pygments_lexer": "ipython3",
   "version": "3.11.3"
  }
 },
 "nbformat": 4,
 "nbformat_minor": 5
}
